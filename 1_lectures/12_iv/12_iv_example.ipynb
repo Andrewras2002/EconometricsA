{
 "cells": [
  {
   "cell_type": "markdown",
   "metadata": {
    "slideshow": {
     "slide_type": "slide"
    }
   },
   "source": [
    "#  Instrument variable\n",
    "\n",
    "### Økonometri A (ØkA)\n",
    "\n",
    "Bertel Schjerning\n",
    "\n",
    "Department of Economics, University of Copenhagen\n"
   ]
  },
  {
   "cell_type": "markdown",
   "metadata": {
    "slideshow": {
     "slide_type": "skip"
    }
   },
   "source": [
    "### Enable autoreload"
   ]
  },
  {
   "cell_type": "code",
   "execution_count": 33,
   "metadata": {
    "slideshow": {
     "slide_type": "skip"
    }
   },
   "outputs": [
    {
     "name": "stdout",
     "output_type": "stream",
     "text": [
      "The autoreload extension is already loaded. To reload it, use:\n",
      "  %reload_ext autoreload\n"
     ]
    }
   ],
   "source": [
    "# Sørger for at alle importerede python filer geninlæses ved import statements\n",
    "# Nødvedigt, hvis ændinger skal tage effekt uden at genstarte Python Kernel\n",
    "%load_ext autoreload\n",
    "%autoreload 2"
   ]
  },
  {
   "cell_type": "markdown",
   "metadata": {
    "slideshow": {
     "slide_type": "slide"
    }
   },
   "source": [
    "# Part 1: IV estimation (løn regression)"
   ]
  },
  {
   "cell_type": "markdown",
   "metadata": {
    "slideshow": {
     "slide_type": "slide"
    }
   },
   "source": [
    "### Indlæs data og moduler"
   ]
  },
  {
   "cell_type": "code",
   "execution_count": 34,
   "metadata": {},
   "outputs": [],
   "source": [
    "import pandas as pd\n",
    "import numpy as np\n",
    "import mymlr as mlr  \n",
    "\n",
    "# Indlæs data og opret variabler\n",
    "df_mroz = pd.read_stata(\"../data/mroz.dta\")   # Indlæs data fra en Stata-fil\n",
    "df_mroz['const'] = 1  # Tilføj en konstant term (intercept)\n",
    "df_mroz['lwage'] = np.log(df_mroz['wage'])  # Logaritmer lønvariablen 'wage'\n",
    "df = df_mroz.dropna(subset='lwage')  # Fjern rækker med manglende værdier i 'lwage'"
   ]
  },
  {
   "cell_type": "markdown",
   "metadata": {
    "slideshow": {
     "slide_type": "slide"
    }
   },
   "source": [
    "### Sammenlign OLS og IV"
   ]
  },
  {
   "cell_type": "code",
   "execution_count": 35,
   "metadata": {},
   "outputs": [
    {
     "name": "stdout",
     "output_type": "stream",
     "text": [
      "                         OLS       IV\n",
      "Dependent variable     lwage    lwage\n",
      "             const   -0.1852   0.7022\n",
      "                   (-0.9998) (1.3984)\n",
      "              educ    0.1086   0.0385\n",
      "                    (7.5451) (0.9742)\n",
      "         R_squared    0.1179   0.0022\n",
      "               TSS  223.3274 223.3274\n",
      "               RSS  197.0010 222.8310\n",
      "               ESS   26.3264   0.4964\n",
      "                 n       428      428\n",
      "Note: t-statistics are reported in parentheses.\n",
      "\n"
     ]
    }
   ],
   "source": [
    "# OLS\n",
    "m_ols = mlr.ols(df[['const', 'educ']], df['lwage'])  # Estimér OLS-model\n",
    "\n",
    "# IVE med 'motheduc' som instrument\n",
    "m_2sls = mlr.tsls(y=df['lwage'], \n",
    "                  X1=df[['const']], \n",
    "                  X2=df[['educ']], \n",
    "                  Ze=df[['motheduc']])  \n",
    "\n",
    "mlr.summary([m_ols, m_2sls], column_titles=[\"OLS\", \"IV\"], report_stats=\"t\")"
   ]
  },
  {
   "cell_type": "markdown",
   "metadata": {
    "slideshow": {
     "slide_type": "slide"
    }
   },
   "source": [
    "### OLS/IV: Simpel implemtering med en forklarende variable og et instrument "
   ]
  },
  {
   "cell_type": "code",
   "execution_count": 36,
   "metadata": {},
   "outputs": [
    {
     "name": "stdout",
     "output_type": "stream",
     "text": [
      "Covariance matrix\n",
      "              lwage      educ   motheduc\n",
      "lwage     0.523015  0.567466   0.112796\n",
      "educ      0.567466  5.222942   2.925967\n",
      "motheduc  0.112796  2.925967  10.943526\n",
      "\n",
      "b_OLS (educ) 0.1086\n",
      "b_IV  (educ) 0.0385\n",
      "                         OLS       IV\n",
      "Dependent variable     lwage    lwage\n",
      "             const   -0.1852   0.7022\n",
      "                   (-0.9998) (1.3984)\n",
      "              educ    0.1086   0.0385\n",
      "                    (7.5451) (0.9742)\n",
      "         R_squared    0.1179   0.0022\n",
      "               TSS  223.3274 223.3274\n",
      "               RSS  197.0010 222.8310\n",
      "               ESS   26.3264   0.4964\n",
      "                 n       428      428\n",
      "Note: t-statistics are reported in parentheses.\n",
      "\n"
     ]
    }
   ],
   "source": [
    "cov=df[['lwage','educ', 'motheduc']].cov()\n",
    "b_OLS=cov.loc['lwage', 'educ']/cov.loc['educ','educ']\n",
    "b_IV=cov.loc['lwage', 'motheduc']/cov.loc['educ', 'motheduc']\n",
    "print(f'Covariance matrix\\n {cov}\\n')\n",
    "print(f'b_OLS (educ) {b_OLS.round(4)}')\n",
    "print(f'b_IV  (educ) {b_IV.round(4)}')\n",
    "mlr.summary([m_ols, m_2sls], column_titles=[\"OLS\", \"IV\"], report_stats=\"t\")\n"
   ]
  },
  {
   "cell_type": "markdown",
   "metadata": {
    "slideshow": {
     "slide_type": "slide"
    }
   },
   "source": [
    "### IV som effekten af $z$ på $y$ relativt til effekten af $z$ på $x$"
   ]
  },
  {
   "cell_type": "code",
   "execution_count": 37,
   "metadata": {},
   "outputs": [
    {
     "name": "stdout",
     "output_type": "stream",
     "text": [
      "b_IV   (educ) 0.0385\n",
      "b_2SLS (educ) 0.0385\n"
     ]
    }
   ],
   "source": [
    "# First stage (effekt af z på x)\n",
    "m_first = mlr.ols(y=df['educ'], X=df[['const', 'motheduc']])  \n",
    "\n",
    "# Reduceret form (effekt af z på y)\n",
    "m_reduced = mlr.ols(y=df['lwage'], X=df[['const', 'motheduc']])  \n",
    "\n",
    "b_2SLS=m_reduced['beta_hat'][1]/m_first['beta_hat'][1]\n",
    "print(f'b_IV   (educ) {b_IV.round(4)}')\n",
    "print(f'b_2SLS (educ) {b_2SLS[0].round(4)}')\n"
   ]
  },
  {
   "cell_type": "markdown",
   "metadata": {
    "slideshow": {
     "slide_type": "slide"
    }
   },
   "source": [
    "# Part 2: Monte Carlo "
   ]
  },
  {
   "cell_type": "markdown",
   "metadata": {
    "slideshow": {
     "slide_type": "slide"
    }
   },
   "source": [
    "## Sammen ligning af OLS og IV \n",
    "### IV estimatoren er konsistent men ikke middelret\n",
    "\n",
    "Vi undersøger fordelingen af OLS og IV, afhængigt af stikprøvestørrelsen $(n)$.\n",
    "\n",
    "### Model:\n",
    "$$\n",
    "\\begin{align*}\n",
    "    y &= x\\beta + u \\\\\n",
    "    x &= \\rho_{zu}z + \\rho_{xu} u + \\varepsilon \\\\\n",
    "    z &\\sim N(0,1), \\quad u \\sim N(0,1), \\quad \\varepsilon \\sim N(0,1)\n",
    "\\end{align*}\n",
    "$$\n",
    "\n",
    "### Grænseværdi:\n",
    "$$\n",
    "\\begin{align*}\n",
    "\t\\text{plim}\\left(\\hat{\\beta}_1^{IV} \\right)  &= \\beta_{1} + \\frac{cov(u,z)}{cov(x,z)} = \\beta_{1}\\\\\n",
    "\t\\text{plim}\\left(\\hat{\\beta}_1^{OLS} \\right) \n",
    "    &= \\beta_{1}+ \\frac{cov(u,x)}{var(x)}\n",
    "    = \\beta_{1}+\\frac{cov(u, z + \\rho_{xu} u + \\varepsilon)}{var(\\rho_{zu}z + \\rho_{xu} u + \\varepsilon)} = \\beta_{1}+\\frac{\\rho_{xu}}{\\rho_{zu}+\\rho_{xu}+1}\n",
    "\t\\end{align*}\n",
    "$$\n",
    "\n",
    "\n",
    "Simuler modellen 10.000 gange med $n \\in \\{10, 25, 50, 100, 1000\\}$."
   ]
  },
  {
   "cell_type": "markdown",
   "metadata": {
    "slideshow": {
     "slide_type": "slide"
    }
   },
   "source": [
    "### Simulator\n"
   ]
  },
  {
   "cell_type": "code",
   "execution_count": 38,
   "metadata": {},
   "outputs": [],
   "source": [
    "def simulate(n=100, beta=1, sigma_z=1, sigma_u=1, sigma_e=1, rho_xu=0,rho_xz=0):\n",
    "    norm=np.random.normal\n",
    "    const = np.ones(n)\n",
    "    z = norm(0, sigma_z, size=n)  # Instrument\n",
    "    u = norm(0, sigma_u, size=n)  \n",
    "    e = norm(0, sigma_e, size=n)  \n",
    "    x = rho_xz*z + rho_xu*u + e;  # Endogenous variable \n",
    "    \n",
    "    y = beta * x + u   # Strukturel ligning \n",
    "    \n",
    "    # Dataframes for udvalgte og fulde sample\n",
    "    df = pd.DataFrame({'y': y, 'const': const, 'x': x, 'z': z, 'u': u, 'e': e})\n",
    "\n",
    "    return df"
   ]
  },
  {
   "cell_type": "code",
   "execution_count": 39,
   "metadata": {},
   "outputs": [
    {
     "data": {
      "text/html": [
       "<div>\n",
       "<style scoped>\n",
       "    .dataframe tbody tr th:only-of-type {\n",
       "        vertical-align: middle;\n",
       "    }\n",
       "\n",
       "    .dataframe tbody tr th {\n",
       "        vertical-align: top;\n",
       "    }\n",
       "\n",
       "    .dataframe thead th {\n",
       "        text-align: right;\n",
       "    }\n",
       "</style>\n",
       "<table border=\"1\" class=\"dataframe\">\n",
       "  <thead>\n",
       "    <tr style=\"text-align: right;\">\n",
       "      <th></th>\n",
       "      <th>y</th>\n",
       "      <th>const</th>\n",
       "      <th>x</th>\n",
       "      <th>z</th>\n",
       "      <th>u</th>\n",
       "      <th>e</th>\n",
       "    </tr>\n",
       "  </thead>\n",
       "  <tbody>\n",
       "    <tr>\n",
       "      <th>y</th>\n",
       "      <td>6.118217</td>\n",
       "      <td>0.0</td>\n",
       "      <td>4.054064</td>\n",
       "      <td>0.994034</td>\n",
       "      <td>2.064153</td>\n",
       "      <td>0.995876</td>\n",
       "    </tr>\n",
       "    <tr>\n",
       "      <th>const</th>\n",
       "      <td>0.000000</td>\n",
       "      <td>0.0</td>\n",
       "      <td>0.000000</td>\n",
       "      <td>0.000000</td>\n",
       "      <td>0.000000</td>\n",
       "      <td>0.000000</td>\n",
       "    </tr>\n",
       "    <tr>\n",
       "      <th>x</th>\n",
       "      <td>4.054064</td>\n",
       "      <td>0.0</td>\n",
       "      <td>3.019214</td>\n",
       "      <td>0.990835</td>\n",
       "      <td>1.034850</td>\n",
       "      <td>0.993529</td>\n",
       "    </tr>\n",
       "    <tr>\n",
       "      <th>z</th>\n",
       "      <td>0.994034</td>\n",
       "      <td>0.0</td>\n",
       "      <td>0.990835</td>\n",
       "      <td>0.983764</td>\n",
       "      <td>0.003199</td>\n",
       "      <td>0.003872</td>\n",
       "    </tr>\n",
       "    <tr>\n",
       "      <th>u</th>\n",
       "      <td>2.064153</td>\n",
       "      <td>0.0</td>\n",
       "      <td>1.034850</td>\n",
       "      <td>0.003199</td>\n",
       "      <td>1.029303</td>\n",
       "      <td>0.002347</td>\n",
       "    </tr>\n",
       "    <tr>\n",
       "      <th>e</th>\n",
       "      <td>0.995876</td>\n",
       "      <td>0.0</td>\n",
       "      <td>0.993529</td>\n",
       "      <td>0.003872</td>\n",
       "      <td>0.002347</td>\n",
       "      <td>0.987310</td>\n",
       "    </tr>\n",
       "  </tbody>\n",
       "</table>\n",
       "</div>"
      ],
      "text/plain": [
       "              y  const         x         z         u         e\n",
       "y      6.118217    0.0  4.054064  0.994034  2.064153  0.995876\n",
       "const  0.000000    0.0  0.000000  0.000000  0.000000  0.000000\n",
       "x      4.054064    0.0  3.019214  0.990835  1.034850  0.993529\n",
       "z      0.994034    0.0  0.990835  0.983764  0.003199  0.003872\n",
       "u      2.064153    0.0  1.034850  0.003199  1.029303  0.002347\n",
       "e      0.995876    0.0  0.993529  0.003872  0.002347  0.987310"
      ]
     },
     "metadata": {},
     "output_type": "display_data"
    },
    {
     "name": "stdout",
     "output_type": "stream",
     "text": [
      "Asymptotisk bias OLS: 0.3333\n",
      "                          OLS         IV\n",
      "Dependent variable          y          y\n",
      "             const     0.0124     0.0149\n",
      "                     (0.0082)   (0.0226)\n",
      "                 x     1.3428     1.0032\n",
      "                     (0.0047)   (0.0226)\n",
      "         R_squared     0.8897     0.1642\n",
      "               TSS 61176.0557 61176.0557\n",
      "               RSS  6745.3640 51132.9369\n",
      "               ESS 54430.6916 10043.1187\n",
      "                 n      10000      10000\n",
      "Note: Standard errors are reported in parentheses.\n",
      "\n"
     ]
    }
   ],
   "source": [
    "rho_xu=1; rho_xz=1\n",
    "df= simulate(n=10000, rho_xu=rho_xu, rho_xz=rho_xz)\n",
    "\n",
    "display(df.cov())\n",
    "m_ols = mlr.ols(df[['const', 'x']], df['y'])  # Estimér OLS-model\n",
    "print(f'Asymptotisk bias OLS: {round(rho_xu/(1+rho_xu+rho_xz),4)}')\n",
    "# IVE med 'z' som instrument\n",
    "m_2sls = mlr.tsls(y=df['y'], \n",
    "                  X1=df[['const']], \n",
    "                  X2=df[['x']], \n",
    "                  Ze=df[['z']])  \n",
    "\n",
    "mlr.summary([m_ols, m_2sls], column_titles=[\"OLS\", \"IV\"], report_stats=\"se\")"
   ]
  },
  {
   "cell_type": "markdown",
   "metadata": {
    "slideshow": {
     "slide_type": "slide"
    }
   },
   "source": [
    "### Monte Carlo"
   ]
  },
  {
   "cell_type": "code",
   "execution_count": 40,
   "metadata": {
    "slideshow": {
     "slide_type": "-"
    }
   },
   "outputs": [
    {
     "ename": "ModuleNotFoundError",
     "evalue": "No module named 'monte_carlo'",
     "output_type": "error",
     "traceback": [
      "\u001b[0;31m---------------------------------------------------------------------------\u001b[0m",
      "\u001b[0;31mModuleNotFoundError\u001b[0m                       Traceback (most recent call last)",
      "Input \u001b[0;32mIn [40]\u001b[0m, in \u001b[0;36m<cell line: 1>\u001b[0;34m()\u001b[0m\n\u001b[0;32m----> 1\u001b[0m \u001b[38;5;28;01mimport\u001b[39;00m \u001b[38;5;21;01mmonte_carlo\u001b[39;00m \u001b[38;5;28;01mas\u001b[39;00m \u001b[38;5;21;01mmc\u001b[39;00m\n\u001b[1;32m      2\u001b[0m rho_xu\u001b[38;5;241m=\u001b[39m\u001b[38;5;241m1\u001b[39m; rho_xz\u001b[38;5;241m=\u001b[39m\u001b[38;5;241m1\u001b[39m\n\u001b[1;32m      3\u001b[0m b, se \u001b[38;5;241m=\u001b[39m mc\u001b[38;5;241m.\u001b[39msimulate(simulate(n\u001b[38;5;241m=\u001b[39m\u001b[38;5;241m100\u001b[39m, rho_xu\u001b[38;5;241m=\u001b[39mrho_xu, rho_xz\u001b[38;5;241m=\u001b[39mrho_xz), S\u001b[38;5;241m=\u001b[39m\u001b[38;5;241m1000\u001b[39m)\n",
      "\u001b[0;31mModuleNotFoundError\u001b[0m: No module named 'monte_carlo'"
     ]
    }
   ],
   "source": [
    "import monte_carlo as mc\n",
    "rho_xu=1; rho_xz=1\n",
    "b, se = mc.simulate(simulate(n=100, rho_xu=rho_xu, rho_xz=rho_xz), S=1000)\n",
    "mc.summary_table(b,se, beta0)"
   ]
  },
  {
   "cell_type": "markdown",
   "metadata": {
    "slideshow": {
     "slide_type": "slide"
    }
   },
   "source": [
    "# Part 2: Estimation af model for consumer demand\n",
    "\n",
    "Grieco, P.L., Murry, C. and Yurukoglu, A. (2024): \"The evolution of market power in the us automobile industry.\"\n",
    "<br>*The Quarterly Journal of Economics*, 139(2), pp.1201-1253.\n"
   ]
  },
  {
   "cell_type": "markdown",
   "metadata": {
    "slideshow": {
     "slide_type": "slide"
    }
   },
   "source": [
    "## Modellering af Markedsandele: Logit Model\n",
    "\n",
    "**Nyttefunktion for Forbruger $i$, Produkt $j$ i Marked $m$:**\n",
    "\n",
    "$$\n",
    "U_{imj} = \\beta \\mathbf{x}_{mj} - \\alpha p_{mj} + \\xi_{mj} + \\epsilon_{imj}\n",
    "$$\n",
    "\n",
    "- $\\mathbf{x}_{mj}$: Observerbare karakteristika for produkt $j$ i marked $m$ (f.eks. størrelse, kvalitet).\n",
    "- $p_{mj}$: Pris for produkt $j$ i marked $m$.\n",
    "- $\\xi_{mj}$: Uobserverbare karakteristika (f.eks. brand, placering).\n",
    "- $\\epsilon_{imj}$: Idiosynkratisk fejlled, der følger en ekstremværdi fordeling (Gumbel).\n",
    "\n",
    "**Markedsandel for Produkt $j$ i Marked $m$:**\n",
    "\n",
    "Forbrugeren vælger produktet, der maksimerer nytte, hvilket giver beslutningsreglen:\n",
    "$$\n",
    "j_{im}^* = \\arg \\max_{j=0,1,\\dots, J} U_{imj}\n",
    "$$\n",
    "\n",
    "**Markedsandele:**\n",
    "\n",
    "I Økonometri B viser vi, at antagelsen om, at $\\epsilon_{imj}$ er ekstremværdi fordelt,\n",
    "leder til markedsandele på \"logit form\":\n",
    "$$\n",
    "S_{mj} = \\frac{\\exp(U_{imj})}{\\sum_{k=0}^{J} \\exp(U_{imk})}\n",
    "$$\n",
    "\n",
    "$S_{mj}$ er sandsynligheden for, at forbruger $i$ vælger produkt $j$ i marked $m$."
   ]
  },
  {
   "cell_type": "markdown",
   "metadata": {
    "slideshow": {
     "slide_type": "slide"
    }
   },
   "source": [
    "## Modellering af Markedsandele: Log-Linearisering\n",
    "\n",
    "**Markedsandel for Produkt $j$ i Marked $m$:**\n",
    "$$\n",
    "S_{mj} = \\frac{\\exp(U_{imj})}{\\sum_{k=0}^{J} \\exp(U_{imk})}\n",
    "$$\n",
    "\n",
    "**Log-markedsandel for Produkt $j$:**\n",
    "$$\n",
    "\\log(S_{mj}) = U_{imj} - \\log\\left( \\sum_{k=0}^{J} \\exp(U_{imk}) \\right) = U_{imj} - \\Lambda_{im}\n",
    "$$\n",
    "\n",
    "**Log-differens af markedsandele mellem to produkter $j$ og $k$:**\n",
    "$$\n",
    "\\log\\left(\\frac{S_{mj}}{S_{mk}}\\right) =  U_{imj} - \\Lambda_{im} - \\left( U_{imk} - \\Lambda_{im} \\right) = U_{imj} - U_{imk}\n",
    "$$\n",
    "\n",
    "- Log-summen forsvinder når vi tager forskellen mellem produkterne.\n",
    "- Log-summen $\\Lambda_{im} = \\log\\left( \\sum_{k=0}^{J} \\exp(U_{imk}) \\right)$ er uafhængig af $j$ og $k$, da vi summerer over alle produkter i markedet.\n",
    "\n",
    "**Dette resulterer i en lineær model:**\n",
    "$$\n",
    "\\log\\left(\\frac{S_{mj}}{S_{mk}}\\right) = \\beta(\\mathbf{x}_{mj} - \\mathbf{x}_{mk}) - \\alpha(p_{mj} - p_{mk}) + (\\xi_{mj} - \\xi_{mk})\n",
    "$$"
   ]
  },
  {
   "cell_type": "markdown",
   "metadata": {
    "slideshow": {
     "slide_type": "slide"
    }
   },
   "source": [
    "## Normalisering af Nytte for Outside Good\n",
    "\n",
    "**Outside Good (ingen bilkøb):**\n",
    "- For det outside-alternativ, hvor forbrugeren vælger ikke at købe en bil, antager vi:\n",
    "$$\n",
    "U_{im0} = 0\n",
    "$$\n",
    "- Da vi ikke observerer prisen eller karakteristika for outside good, gør denne normalisering det muligt at sammenligne nytten af andre produkter relativt til ikke-køb.\n",
    "\n",
    "**Normaliseret nytte for produkt $j$:**\n",
    "- Nyttefunktionen for produkt $j$ bliver:\n",
    "$$\n",
    "U_{imj} = \\beta \\mathbf{x}_{mj} - \\alpha p_{mj} + \\xi_{mj}\n",
    "$$\n",
    "\n",
    "**Markedsandel relativt til outside good:**\n",
    "- Ved at tage log-forskellen mellem markedsandelen for produkt $j$ og outside good ($S_{m0}$), får vi:\n",
    "$$\n",
    "\\log\\left(\\frac{S_{mj}}{S_{m0}}\\right) = \\beta \\mathbf{x}_{mj} - \\alpha p_{mj} + \\xi_{mj}\n",
    "$$\n",
    "\n",
    "- Normaliseringen sætter outside good's nytte til 0, hvilket resulterer i en lineær model, hvor $\\alpha$ måler den marginale nytte af penge, og $\\beta$ måler den marginale effekt af produktets karakteristika."
   ]
  },
  {
   "cell_type": "markdown",
   "metadata": {
    "slideshow": {
     "slide_type": "slide"
    }
   },
   "source": [
    "### Indlæs relevante libraries "
   ]
  },
  {
   "cell_type": "code",
   "execution_count": null,
   "metadata": {},
   "outputs": [],
   "source": [
    "import pandas as pd\n",
    "import numpy as np\n",
    "import mymlr as mlr # see mymlr.py\n",
    "pd.set_option('display.float_format', '{:.8f}'.format)"
   ]
  },
  {
   "cell_type": "markdown",
   "metadata": {
    "slideshow": {
     "slide_type": "slide"
    }
   },
   "source": [
    "### Indlæs data"
   ]
  },
  {
   "cell_type": "code",
   "execution_count": null,
   "metadata": {},
   "outputs": [],
   "source": [
    "# Indlæs datasæt\n",
    "df = pd.read_csv(\"../data/cars.csv\")\n",
    "df['const'] = 1 # tilføj konstant\n",
    "df[\"market_ids\"] = df[\"year\"] # Definér \"market_ids\" som året for salget\n",
    "pd.set_option('display.max_columns', None)  # Vis alle kolonner\n",
    "pd.set_option('display.max_rows',20) # Begræns til 20 rækker\n",
    "display(df.round(4)) # Vis datasættet med nye kolonner"
   ]
  },
  {
   "cell_type": "markdown",
   "metadata": {
    "slideshow": {
     "slide_type": "slide"
    }
   },
   "source": [
    "### Forbered variable til estimation\n",
    "\n",
    "$$\n",
    "\\log\\left(\\frac{S_{mj}}{S_{m0}}\\right) = \\beta \\mathbf{x}_{mj} - \\alpha p_{mj} + \\xi_{mj}\n",
    "$$\n",
    "\n",
    "Først venstresiden \n",
    "$$\n",
    "\\text{dlogS}=\\log\\left(\\frac{S_{mj}}{S_{m0}}\\right)\n",
    "$$"
   ]
  },
  {
   "cell_type": "code",
   "execution_count": null,
   "metadata": {},
   "outputs": [],
   "source": [
    "# Beregn markedsandele Smj baseret på antagelsen om, \n",
    "# - at hver husholdning har 2 biler\n",
    "# - og køber en ny bil hvert 2.5 år\n",
    "df[\"Smj\"] = df.apply(lambda x: x[\"sales\"] / (x[\"number_households\"] / 2.5), axis=1)\n",
    "\n",
    "# Beregn andelen af husholdninger uden ny bil, baseret på de beregnede Smj værdier\n",
    "Sm0 = 1 - df.groupby(\"year\")[\"Smj\"].sum() \n",
    "\n",
    "# Forskellen i log-markedsandel mellem en given bil og andelen uden ny bil\n",
    "df[\"dlogS\"] = df.apply(lambda x: np.log(x[\"Smj\"]) - np.log(Sm0[x[\"year\"]]), axis=1)"
   ]
  },
  {
   "cell_type": "markdown",
   "metadata": {
    "slideshow": {
     "slide_type": "slide"
    }
   },
   "source": [
    "### Forbered variable til estimation\n",
    "\n",
    "$$\n",
    "\\log\\left(\\frac{S_{mj}}{S_{m0}}\\right) = \\beta \\mathbf{x}_{mj} - \\alpha p_{mj} + \\xi_{mj}\n",
    "$$\n",
    "\n",
    "Nu de forklarende variable \n",
    "- $\\mathbf{x}_{mj}$: Observerbare karakteristika for produkt $j$ i marked $m$: \n",
    "    \n",
    "        \"log_height\",\"log_footprint\",\"log_hp\",\"log_mpg\",\n",
    "        \"log_curbweight\",\"log_number_trims\",\n",
    "         \"releaseYear\",\"yearsSinceDesign\"\n",
    "- $p_{mj}$: Pris for produkt $j$ i marked $m$.\n",
    "    - manufacturer suggested retail price skaleret fra $1000$ til $10.000$\n",
    "            \"msrp\" x 0.1"
   ]
  },
  {
   "cell_type": "code",
   "execution_count": null,
   "metadata": {},
   "outputs": [],
   "source": [
    "# Priser, pmj\n",
    "df[\"prices\"] = df[\"msrp\"].copy()*0.1 # Skaler priserne fra 1000$ til 10.000$\n",
    "\n",
    "# Liste med x variable (vehicle attributes, xmj) - variable findes i df\n",
    "Xvar = [\"log_height\",\"log_footprint\",\"log_hp\",\"log_mpg\",\n",
    "        \"log_curbweight\",\"log_number_trims\",\n",
    "       \"releaseYear\",\"yearsSinceDesign\"] "
   ]
  },
  {
   "cell_type": "markdown",
   "metadata": {
    "slideshow": {
     "slide_type": "slide"
    }
   },
   "source": [
    "### Forbered variable til estimation\n",
    "Tilføj dummies som proxy for $\\xi_{mj}$\n",
    "$$\n",
    "\\log\\left(\\frac{S_{mj}}{S_{m0}}\\right) = \\beta \\mathbf{x}_{mj} - \\alpha p_{mj} + \\xi_{mj} \n",
    "$$\n",
    "Dummies for\n",
    "- **biltyper** (sport, EV, truck, suv, van) \n",
    "- **kalender år** (reference kategori: $1980$)\n",
    "- **bilmærke** (reference kategori: Volvo)"
   ]
  },
  {
   "cell_type": "markdown",
   "metadata": {
    "slideshow": {
     "slide_type": "slide"
    }
   },
   "source": [
    "### Dummies"
   ]
  },
  {
   "cell_type": "code",
   "execution_count": null,
   "metadata": {
    "slideshow": {
     "slide_type": "-"
    }
   },
   "outputs": [],
   "source": [
    "# Liste med dummy variable for biltyper - findes allerede i df\n",
    "D_type= [\"sport\",\"EV\",\"truck\",\"suv\",\"van\"] \n",
    "\n",
    "# Opret dummies for år og fjern 1980 som referencekategori, konverter til int for sikkerhed\n",
    "year_dummies = pd.get_dummies(df[\"year\"], prefix='y').astype(int)\n",
    "\n",
    "# Opret dummies for bilproducenter og fjern Volvo som referencekategori\n",
    "make_dummies = pd.get_dummies(df[\"make\"]).astype(int)\n",
    "\n",
    "# Kolonnenavne for dummies\n",
    "D_year = year_dummies.columns.tolist()  # Konverter Int64Index til en liste af strenge\n",
    "D_make = make_dummies.columns.tolist()  # Konverter Int64Index til en liste af strenge\n",
    "D_year.remove(\"y_1981\") # reference kategori er 1980\n",
    "D_make.remove(\"volvo\") # reference kategori er 1980\n",
    "\n",
    "# Tilføj gem df og dummeies i ny dataframe, X\n",
    "X = pd.concat([df, year_dummies, make_dummies], axis=1)\n",
    "X[D_make].head(100)\n",
    "X[D_make].sum(axis=0)"
   ]
  },
  {
   "cell_type": "code",
   "execution_count": null,
   "metadata": {
    "slideshow": {
     "slide_type": "slide"
    }
   },
   "outputs": [],
   "source": [
    "import matplotlib.pyplot as plt\n",
    "\n",
    "# Beregn summen af dummyvariablerne og tilføj reference kategorien (sum må ikke være 0)\n",
    "sums = X[D_type].sum(axis=0) # e.g. type, make, year\n",
    "sums[\"reference kategori\"]=X[\"const\"].sum()-sums.sum()\n",
    "\n",
    "# Lav en søjlediagram for summen \n",
    "sums.plot(kind='bar', figsize=(10, 6))\n",
    "\n",
    "# Tilføj labels og titel\n",
    "plt.ylabel('Antal obs')\n",
    "plt.xticks(rotation=90)  # Drej x-axis labels for bedre læsbarhed\n",
    "\n",
    "# Vis diagrammet\n",
    "plt.show()"
   ]
  },
  {
   "cell_type": "markdown",
   "metadata": {
    "slideshow": {
     "slide_type": "slide"
    }
   },
   "source": [
    "## Modelspecifikation for forbrugerens efterspørgsel\n",
    "\n",
    "$$\n",
    "\\log\\left(\\frac{S_{jm}}{S_{0m}}\\right) = \\beta \\mathbf{x}_{jm} - \\alpha p_{jm} + \\xi_{jm}\n",
    "$$\n",
    "\n",
    "hvor:\n",
    "- $m$ refererer til **markedet** (her **året**).\n",
    "- $S_{jm}$: Markedsandel af produkt $j$ i marked $m$.\n",
    "- $S_{0m}$: Markedsandel for det \"outside good\" (ingen bilkøb) i marked $m$.\n",
    "- $\\mathbf{x}_{jm}$: Observerbare produktkarakteristika.\n",
    "- $p_{jm}$: Pris for produkt $j$ i marked $m$.\n",
    "- $\\xi_{jm}$: Uobserverbare produktkarakteristika.\n",
    "\n",
    "Vi estimerer fem versioner af følgende model, som adskiller sig ved hvordan $\\xi_{jm}$ approximeres"
   ]
  },
  {
   "cell_type": "markdown",
   "metadata": {
    "slideshow": {
     "slide_type": "slide"
    }
   },
   "source": [
    "#### Model 1: Baseline specifikation med kun priser ($p_{jm}$):\n",
    "$$\n",
    "\\log\\left(\\frac{S_{jm}}{S_{0m}}\\right) = \\beta_0 + \\beta_{\\text{price}} p_{jm} + \\epsilon_{jm}\n",
    "$$\n",
    "\n",
    "#### Model 2: Priser og produktkarakteristika ($\\mathbf{x}_{jm}$):\n",
    "$$\n",
    "\\log\\left(\\frac{S_{jm}}{S_{0m}}\\right) = \\beta_0 + \\beta_{\\text{price}} p_{jm} + \\sum \\beta_k \\mathbf{x}_{jm,k} + \\epsilon_{jm}\n",
    "$$\n",
    "\n",
    "#### Model 3: Tilføjer dummies for biltyper (sport, EV, truck, SUV, van):\n",
    "$$\n",
    "\\log\\left(\\frac{S_{jm}}{S_{0m}}\\right) = \\beta_0 + \\beta_{\\text{price}} p_{jm} + \\sum \\beta_k \\mathbf{x}_{jm,k} + \\sum \\delta_t D_{\\text{type}, m} + \\epsilon_{jm}\n",
    "$$\n",
    "\n",
    "#### Model 4: Tilføjer årsdummies for at kontrollere for markedsvirkninger:\n",
    "$$\n",
    "\\log\\left(\\frac{S_{jm}}{S_{0m}}\\right) = \\beta_0 + \\beta_{\\text{price}} p_{jm} + \\sum \\beta_k \\mathbf{x}_{jm,k} + \\sum \\delta_t D_{\\text{type}, m} + \\sum \\gamma_y D_{\\text{year}, m} + \\epsilon_{jm}\n",
    "$$\n",
    "\n",
    "#### Model 5: Fuldspecifikation med bilmærke-dummies (fixed effects for mærker):\n",
    "$$\n",
    "\\log\\left(\\frac{S_{jm}}{S_{0m}}\\right) = \\beta_0 + \\beta_{\\text{price}} p_{jm} + \\sum \\beta_k \\mathbf{x}_{jm,k} + \\sum \\delta_t D_{\\text{type}, m} + \\sum \\gamma_y D_{\\text{year}, m} + \\sum \\eta_m D_{\\text{make}, m} + \\epsilon_{jm}\n",
    "$$\n",
    "\n",
    "**Bemærk**: I denne opsætning svarer marked $m$ til året ($m = t$)."
   ]
  },
  {
   "cell_type": "markdown",
   "metadata": {
    "slideshow": {
     "slide_type": "slide"
    }
   },
   "source": [
    "### Estimate model"
   ]
  },
  {
   "cell_type": "code",
   "execution_count": null,
   "metadata": {},
   "outputs": [],
   "source": [
    "        \n",
    "m1 = mlr.ols(X[['const','prices']], X[\"dlogS\"] )\n",
    "m2 = mlr.ols(X[['const','prices'] + Xvar], X[\"dlogS\"] )\n",
    "m3 = mlr.ols(X[['const','prices'] + Xvar + D_type], X[\"dlogS\"] )\n",
    "m4 = mlr.ols(X[['const','prices'] + Xvar + D_type + D_year], X[\"dlogS\"] )\n",
    "m5 = mlr.ols(X[['const','prices'] + Xvar + D_type + D_year + D_make], X[\"dlogS\"] )\n",
    "\n",
    "mlr.summary([m1,m2,m3, m4, m5])\n"
   ]
  },
  {
   "cell_type": "markdown",
   "metadata": {
    "slideshow": {
     "slide_type": "slide"
    }
   },
   "source": [
    "## Fixed Effects og Within Transformation - alternativ til dummies\n",
    "\n",
    "Vi antager, at en del af $\\xi_{mj}$, det uobserverbare led i vores model, er specifikt for bilproducenten (mærket). Dette giver anledning til følgende lineære model:\n",
    "\n",
    "$$\n",
    "\\log\\left(\\frac{S_{mj}}{S_{m0}}\\right) = \\beta \\mathbf{x}_{mj} - \\alpha p_{mj} + \\xi_{mj}\n",
    "$$\n",
    "\n",
    "### Opsplitning af $\\xi_{mj}$:\n",
    "Lad $\\xi_{mj} = \\gamma_{\\text{make}} + \\tilde{\\xi}_{mj}$, hvor $\\gamma_{\\text{make}}$ repræsenterer fixed effect for producenten (mærket), og $\\tilde{\\xi}_{mj}$ er den resterende fejlled.\n",
    "\n",
    "Dermed bliver modellen:\n",
    "$$\n",
    "\\log\\left(\\frac{S_{mj}}{S_{m0}}\\right) = \\beta \\mathbf{x}_{mj} - \\alpha p_{mj} + \\gamma_{\\text{make}} + \\tilde{\\xi}_{mj}\n",
    "$$"
   ]
  },
  {
   "cell_type": "markdown",
   "metadata": {
    "slideshow": {
     "slide_type": "slide"
    }
   },
   "source": [
    "### Anvendelse af Within Transformation:\n",
    "For at eliminere fixed effect $\\gamma_{\\text{make}}$, de-meaner vi ligningen ved at trække gennemsnittet inden for hver producentgruppe fra:\n",
    "\n",
    "$$\n",
    "\\log\\left(\\frac{S_{mj}}{S_{m0}}\\right) - \\overline{\\log\\left(\\frac{S_{mj}}{S_{m0}}\\right)} = \\beta \\left(\\mathbf{x}_{mj} - \\overline{\\mathbf{x}_{mj}}\\right) - \\alpha \\left(p_{mj} - \\overline{p_{mj}}\\right) + \\left(\\tilde{\\xi}_{mj} - \\overline{\\tilde{\\xi}_{mj}}\\right)\n",
    "$$\n",
    "\n",
    "Da $\\gamma_{\\text{make}}$ er konstant inden for hver gruppe, forsvinder det ved transformationen:\n",
    "$$\n",
    "\\log\\left(\\frac{S_{mj}}{S_{m0}}\\right)^{\\text{demeaned}} = \\beta \\mathbf{x}_{mj}^{\\text{demeaned}} - \\alpha p_{mj}^{\\text{demeaned}} + \\tilde{\\xi}_{mj}^{\\text{demeaned}}\n",
    "$$\n",
    "\n",
    "### Bemærk:\n",
    "- **Fixed effects elimineres**, så vi kan estimere $\\alpha$ og $\\beta$ ved at bruge variationen inden for hver producent.\n",
    "- Vi får **samme parametre** som ved inkludering af producent-dummies i modellen.\n",
    "- **Demeaning** er en praktisk metode til at undgå at inkludere mange dummies i modellen.\n",
    "- Dette er en anvendelse af **Frisch-Waugh-teoremet**, som viser, at vi kan regressere de-meanet $y$ på de-meanet $x$ og få de samme resultater som med dummies."
   ]
  },
  {
   "cell_type": "code",
   "execution_count": null,
   "metadata": {
    "slideshow": {
     "slide_type": "slide"
    }
   },
   "outputs": [],
   "source": [
    "# Function to perform within transformation (demean within groups)\n",
    "def within_transform(df, columns, category):\n",
    "    # Create a copy of the dataframe to avoid modifying the original\n",
    "    df_transformed = df.copy()\n",
    "    \n",
    "    # Loop through each column that requires transformation\n",
    "    for col in columns:\n",
    "        # Compute group means based on the categorized variable\n",
    "        group_means = df.groupby(category)[col].transform('mean')\n",
    "        \n",
    "        # Subtract group means from the column values (demeaning within groups)\n",
    "        df_transformed[col] = df[col] - group_means\n",
    "    \n",
    "    return df_transformed\n",
    "\n",
    "Zvars= ['prices'] + Xvar + D_type + D_year; \n",
    "Xt = within_transform(X, Zvars + ['dlogS'], 'make')\n",
    "\n",
    "m_ols = mlr.ols(X[['const'] + Zvars + D_make], X[\"dlogS\"] )\n",
    "m_fe = mlr.ols(Xt[Zvars], Xt[\"dlogS\"] )\n",
    "\n",
    "mlr.summary([m_ols, m_fe])\n"
   ]
  },
  {
   "cell_type": "markdown",
   "metadata": {
    "slideshow": {
     "slide_type": "slide"
    }
   },
   "source": [
    "## Endogenitetsproblemet: \n",
    "#### Er MLR.4 opfyldt? $$E[\\xi_{jm}|\\mathbf{x}_{jm},p_{jm}]=0$$\n",
    "\n",
    "**Hvad er endogenitet?**\n",
    "- Endogenitet opstår, når $[\\xi_{jm}|\\mathbf{x}_{jm},p_{jm}] \\neq 0$\n",
    "- I vores tilfælde kan prisen ($p_{mj}$) være endogen, hvis uobserverbare faktorer, der påvirker efterspørgslen ($\\xi_{mj}$), også påvirker prisen.\n",
    "\n",
    "**Eksempel:**\n",
    "- **Uobserverede karakteristika ($\\xi_{mj}$):** Ting som kvalitet, mærke-image, eller økonomiske stød kan påvirke både efterspørgslen og prisen.\n",
    "- Dette betyder, at når vi forsøger at estimere effekten af prisen på markedsandele, vil vi fejlagtigt tilskrive en del af effekten fra $\\xi_{mj}$ til prisen.\n",
    "\n",
    "**Konsekvens:**\n",
    "- Hvis der er endogenitet, vil OLS estimaterne af $\\alpha$ (pris-effekten) være biased, da de uobserverbare faktorer ikke er uafhængige af prisen."
   ]
  },
  {
   "cell_type": "markdown",
   "metadata": {
    "slideshow": {
     "slide_type": "slide"
    }
   },
   "source": [
    "### Beregn egenpriselasticitet\n",
    "\n",
    "For at beregne egenpriselasticiteten $\\varepsilon_j$ bruger vi følgende udtryk baseret på estimaterne fra vores logit-model:\n",
    "\n",
    "$$\n",
    "\\varepsilon_{mj} \\equiv \\frac{dS_{mj}/S_{mj}}{dp_{mj}/p_{mj}} = \\alpha \\cdot p_{mj} \\cdot (1 - S_{mj})\n",
    "$$"
   ]
  },
  {
   "cell_type": "markdown",
   "metadata": {
    "slideshow": {
     "slide_type": "-"
    }
   },
   "source": [
    "- Model 1: Baseline specifikation med kun priser ($p_{jm}$):\n",
    "- Model 2: Priser og produktkarakteristika ($\\mathbf{x}_{jm}$):\n",
    "- Model 3: Tilføjer dummies for biltyper (sport, EV, truck, SUV, van):\n",
    "- Model 4: Tilføjer årsdummies for at kontrollere for markedsvirkninger:\n",
    "- Model 5: Fuldspecifikation med bilmærke-dummies (fixed effects for mærker):"
   ]
  },
  {
   "cell_type": "code",
   "execution_count": null,
   "metadata": {
    "scrolled": true
   },
   "outputs": [],
   "source": [
    "for i, model in enumerate([m1,m2,m3,m4,m5]):\n",
    "    idx=model['lbl_X'].index('prices');\n",
    "    alpha = model[\"beta_hat\"][idx]\n",
    "    X[\"elasticity\"] = df.apply(lambda x: alpha * x[\"prices\"] * (1 - x[\"Smj\"]) , axis=1)\n",
    "    print(f\"Gennemsnitlig egenpris elasticitet for model {i+1} = {X['elasticity'].mean()}\")"
   ]
  },
  {
   "cell_type": "markdown",
   "metadata": {
    "slideshow": {
     "slide_type": "slide"
    }
   },
   "source": [
    "## Hvordan kan dummies reducere endogenitetsproblemet?\n",
    "\n",
    "**Inkludering af dummies kan hjælpe ved at:**\n",
    "- Kontrollere for **faste uobserverbare faktorer**, som er konstante over tid eller mellem mærker:\n",
    "    - **Års-dummies:** Fanger makroøkonomiske forhold som inflation eller recessioner, der påvirker både pris og efterspørgsel i et givet år.\n",
    "    - **Bilmærke-dummies:** Tager højde for bilspecifikke faktorer som brand image eller kvalitet, som kan være konstante over tid men variere mellem bilmærker.\n",
    "\n",
    "**Hvordan dummies afhjælper endogenitet:**\n",
    "- Dummies fjerner noget af den uobserverede variation, som påvirker både priser og markedsandele.\n",
    "- Derved får vi renere estimater af effekten af prisen, da en del af den fælles variation mellem pris og $\\xi_{mj}$ fjernes."
   ]
  },
  {
   "cell_type": "markdown",
   "metadata": {
    "slideshow": {
     "slide_type": "slide"
    }
   },
   "source": [
    "## Hvorfor er IVs nødvendige for at fjerne endogenitet helt?\n",
    "\n",
    "**Dummies har begrænsninger:**\n",
    "- Selvom dummies hjælper med at kontrollere for faste eller tidsvarierende uobserverede faktorer, kan de ikke fange **variation inden for en kategori**.\n",
    "    - Eksempel: Selv med bilmærke-dummies kan vi ikke kontrollere for variation i efterspørgsel inden for BMW-biler (som fx model-specifikke udsving).\n",
    "- Der kan stadig være en korrelation mellem priser og uobserverbare faktorer inden for hver kategori.\n",
    "\n",
    "**Løsningen: Instrumentvariable (IVs):**\n",
    "- IVs bruges til at eliminere endogenitet, når vi har variabler, der er korrelerede med prisen, men ikke direkte med fejlleddet ($u$).\n",
    "    - **Eksempel:** Produktionsomkostninger, eller inputpriser, der påvirker prisen, men ikke efterspørgslen direkte.\n",
    "- Ved at bruge IVs kan vi isolere den eksogene variation i prisen, hvilket fører til unbiased estimater af pris-effekten.\n",
    "- Vi ser på IV estimation i næste uge"
   ]
  },
  {
   "cell_type": "markdown",
   "metadata": {
    "slideshow": {
     "slide_type": "slide"
    }
   },
   "source": [
    "## Kommentarer på resultaterne\n",
    "\n",
    "**Resultaterne viser:**\n",
    "- Uden dummies (model 1), er priselasticiteten meget høj (-1.34), hvilket tyder på, at der kan være betydelig endogenitet, hvor uobserverede faktorer påvirker både prisen og efterspørgslen.\n",
    "- Når vi tilføjer flere dummies (model 2 til model 5), falder priselasticiteten gradvist, hvilket indikerer, at kontrollen for uobserverede faktorer gennem dummies afhjælper en del af endogeniteten.\n",
    "    - I model 5 er elasticiteten -1.21, hvilket er mere plausibelt, men vi kan stadig ikke udelukke, at der er yderligere endogenitet.\n",
    "\n",
    "**Begrænsning uden IVs:**\n",
    "- Selvom dummies har reduceret noget af endogeniteten, kan vi ikke fjerne al endogenitet uden IVs. For at få fuldstændigt unbiased estimater af priselasticiteten, skal vi inkludere eksterne instrumenter."
   ]
  },
  {
   "cell_type": "markdown",
   "metadata": {
    "slideshow": {
     "slide_type": "slide"
    }
   },
   "source": [
    "## Diskussion af Endogenitetsproblemet\n",
    "\n",
    "Priser er endogene, da de både kan afhænge af efterspørgsel og uobserverede faktorer, såsom produktets kvalitet, der også påvirker efterspørgslen. Hvis vi ikke kontrollerer for endogenitet, kan vores estimater for prisen ($\\alpha$) blive biased.\n",
    "\n",
    "### Hvordan kan dummies/fixed effects hjælpe?\n",
    "- Ved at inkludere dummies for mærker og år, kan vi fange uobserverede faktorer, som kan variere mellem producenter og over tid.\n",
    "- Det hjælper med at eliminere noget af den fælles variation i pris, men fjerner ikke nødvendigvis endogenitet fuldstændigt, især når den varierer inden for en given kategori (f.eks. mellem biler fra samme producent eller år).\n",
    "\n",
    "### IV-løsning\n",
    "For fuldstændigt at eliminere endogenitetsproblemet, skal vi bruge instrumentelle variable (IVs). \n",
    "I denne artikel bruger forfatterne **inputomkostninger og valutakurser** som instrumenter, da de påvirker priserne, men ikke direkte efterspørgslen. Dette fjerner den del af prisvariationen, der er forårsaget af endogenitet, og fører til mere pålidelige estimater for prisfølsomheden.\n",
    "\n",
    "### Resultater og implikationer\n",
    "- I vores modeller ser vi, at inklusionen af flere variable og dummies reducerer prisfølsomheden. Dette indikerer, at endogenitet påvirker vores grundlæggende estimater. \n",
    "- IV-metoden, som bruges i artiklen, giver et næste skridt for at fjerne endogenitetsbias og sikre mere præcise resultater."
   ]
  }
 ],
 "metadata": {
  "celltoolbar": "Slideshow",
  "date": 1602643870.398518,
  "filename": "38_optimization.rst",
  "kernelspec": {
   "display_name": "Python 3 (ipykernel)",
   "language": "python",
   "name": "python3"
  },
  "language_info": {
   "codemirror_mode": {
    "name": "ipython",
    "version": 3
   },
   "file_extension": ".py",
   "mimetype": "text/x-python",
   "name": "python",
   "nbconvert_exporter": "python",
   "pygments_lexer": "ipython3",
   "version": "3.9.12"
  },
  "title": "Foundations of Computational Economics #38"
 },
 "nbformat": 4,
 "nbformat_minor": 4
}
